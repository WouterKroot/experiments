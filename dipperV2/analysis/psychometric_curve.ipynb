{
 "cells": [
  {
   "cell_type": "code",
   "execution_count": 1,
   "id": "c8ab81e6",
   "metadata": {},
   "outputs": [
    {
     "name": "stdout",
     "output_type": "stream",
     "text": [
      "Done!\n"
     ]
    }
   ],
   "source": [
    "#%%\n",
    "import numpy as np\n",
    "import pandas as pd\n",
    "import matplotlib.pyplot as plt\n",
    "from psychopy import data\n",
    "import os\n",
    "\n",
    "# ------------------------------\n",
    "# User settings\n",
    "# ------------------------------\n",
    "participant_num = \"145\"\n",
    "\n",
    "input_csv = f\"/Users/wouter/Documents/phd/projects/psychophysics/experiments/dipperV2/analysis/{participant_num}_baseline.csv\"\n",
    "output_dir = f\"./Output/Exp3/Baseline/{participant_num}_plots/\"\n",
    "detection_prob = 0.5   # threshold\n",
    "\n",
    "os.makedirs(output_dir, exist_ok=True)\n",
    "\n",
    "# ------------------------------\n",
    "# Load data\n",
    "# ------------------------------\n",
    "df = pd.read_csv(input_csv)\n",
    "\n",
    "# Remove extremely long RTs\n",
    "df = df[df[\"RT\"] <= 90]\n",
    "\n",
    "# ------------------------------\n",
    "# Fit psychometric curves\n",
    "# ------------------------------\n",
    "unique_labels = df['label'].unique()\n",
    "thresholds = {}\n",
    "\n",
    "for label in unique_labels:\n",
    "    cond_df = df[df['label'] == label]\n",
    "    \n",
    "    # Remove false positives for \"_null\" trials\n",
    "    mask_false_pos = (cond_df['label'].str.endswith('_null')) & (cond_df['response'] == 1)\n",
    "    cond_df = cond_df[~mask_false_pos]\n",
    "    \n",
    "    if len(cond_df) < 2:\n",
    "        continue  # skip empty or tiny conditions\n",
    "    \n",
    "    # Fit logistic\n",
    "    fit_result = data.FitLogistic(cond_df['TC'], cond_df['response'], expectedMin=0.0)\n",
    "    \n",
    "    # Get threshold\n",
    "    threshold = fit_result.inverse(detection_prob)\n",
    "    thresholds[label] = threshold\n",
    "    \n",
    "    # Plot\n",
    "    smooth_x = np.linspace(cond_df['TC'].min()*0.8, cond_df['TC'].max()*1.2, 500)\n",
    "    smooth_y = fit_result.eval(smooth_x)\n",
    "    \n",
    "    plt.figure(figsize=(5,4))\n",
    "    plt.scatter(cond_df['TC'], cond_df['response'], color='black', label='Responses')\n",
    "    plt.plot(smooth_x, smooth_y, color='red', label='Fit')\n",
    "    plt.axhline(detection_prob, color='blue', linestyle='--', label=f'{detection_prob*100:.0f}% threshold')\n",
    "    plt.title(label)\n",
    "    plt.xlabel('Target Contrast (TC)')\n",
    "    plt.ylabel('Detection Probability')\n",
    "    plt.legend()\n",
    "    plt.tight_layout()\n",
    "    plt.savefig(f\"{output_dir}/{label}_psychometric.png\")\n",
    "    plt.close()\n",
    "\n",
    "# ------------------------------\n",
    "# Save thresholds to CSV\n",
    "# ------------------------------\n",
    "pd.DataFrame.from_dict(thresholds, orient='index', columns=['Threshold']).to_csv(f\"{output_dir}/thresholds.csv\")\n",
    "print(\"Done!\")"
   ]
  }
 ],
 "metadata": {
  "kernelspec": {
   "display_name": "psychopy_env",
   "language": "python",
   "name": "python3"
  },
  "language_info": {
   "codemirror_mode": {
    "name": "ipython",
    "version": 3
   },
   "file_extension": ".py",
   "mimetype": "text/x-python",
   "name": "python",
   "nbconvert_exporter": "python",
   "pygments_lexer": "ipython3",
   "version": "3.10.18"
  }
 },
 "nbformat": 4,
 "nbformat_minor": 5
}
